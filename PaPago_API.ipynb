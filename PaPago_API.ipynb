{
  "nbformat": 4,
  "nbformat_minor": 0,
  "metadata": {
    "colab": {
      "name": "PaPago_API.ipynb",
      "provenance": [],
      "authorship_tag": "ABX9TyNPWcIc1FuFJjBKM16DooBI",
      "include_colab_link": true
    },
    "kernelspec": {
      "name": "python3",
      "display_name": "Python 3"
    },
    "language_info": {
      "name": "python"
    }
  },
  "cells": [
    {
      "cell_type": "markdown",
      "metadata": {
        "id": "view-in-github",
        "colab_type": "text"
      },
      "source": [
        "<a href=\"https://colab.research.google.com/github/Han-Archives/languagebarrier/blob/main/PaPago_API.ipynb\" target=\"_parent\"><img src=\"https://colab.research.google.com/assets/colab-badge.svg\" alt=\"Open In Colab\"/></a>"
      ]
    },
    {
      "cell_type": "code",
      "execution_count": 4,
      "metadata": {
        "colab": {
          "base_uri": "https://localhost:8080/"
        },
        "id": "mz6a7lpf5ShJ",
        "outputId": "4c1566ad-cf81-4a16-c8d3-ad59acf1af26"
      },
      "outputs": [
        {
          "output_type": "stream",
          "name": "stdout",
          "text": [
            "Drive already mounted at /content/drive; to attempt to forcibly remount, call drive.mount(\"/content/drive\", force_remount=True).\n"
          ]
        }
      ],
      "source": [
        "\"\"\" 네이버 client_id, client pw를 저장된 텍스트로 부터 업로드\"\"\"\n",
        "import os, sys\n",
        "from google.colab import drive\n",
        "\n",
        "drive.mount('/content/drive')"
      ]
    },
    {
      "cell_type": "code",
      "source": [
        "import pandas as pd\n",
        "\n",
        "naver_api = pd.read_csv('/content/drive/MyDrive/Colab Notebooks/naver_api.txt', sep=',')\n",
        "naver_api = list(naver_api) # [0]:id , [1]:pw"
      ],
      "metadata": {
        "id": "RWEn1Iqi8RXh"
      },
      "execution_count": 19,
      "outputs": []
    },
    {
      "cell_type": "code",
      "source": [
        "# test\n",
        "import urllib.request\n",
        "\n",
        "client_id = naver_api[0] # 개발자센터에서 발급받은 Client ID 값\n",
        "client_secret = naver_api[1] # 개발자센터에서 발급받은 Client Secret 값\n",
        "\n",
        "encText = urllib.parse.quote(\"반갑습니다\")\n",
        "\n",
        "data = \"source=ko&target=en&text=\" + encText\n",
        "\n",
        "url = \"https://openapi.naver.com/v1/papago/n2mt\"\n",
        "\n",
        "request = urllib.request.Request(url)\n",
        "request.add_header(\"X-Naver-Client-Id\",client_id)\n",
        "request.add_header(\"X-Naver-Client-Secret\",client_secret)\n",
        "\n",
        "response = urllib.request.urlopen(request, data=data.encode(\"utf-8\"))\n",
        "rescode = response.getcode()\n",
        "\n",
        "if(rescode==200):\n",
        "    response_body = response.read()\n",
        "    print(response_body.decode('utf-8'))\n",
        "else:\n",
        "    print(\"Error Code:\" + rescode)"
      ],
      "metadata": {
        "colab": {
          "base_uri": "https://localhost:8080/"
        },
        "id": "Fk7adVXAEvGs",
        "outputId": "4423c3d0-7d56-44ae-ee28-f487e98598f9"
      },
      "execution_count": 24,
      "outputs": [
        {
          "output_type": "stream",
          "name": "stdout",
          "text": [
            "{\"message\":{\"@type\":\"response\",\"@service\":\"naverservice.nmt.proxy\",\"@version\":\"1.0.0\",\"result\":{\"srcLangType\":\"ko\",\"tarLangType\":\"en\",\"translatedText\":\"Nice to meet you.\",\"engineType\":\"PRETRANS\",\"pivot\":null}}}\n"
          ]
        }
      ]
    },
    {
      "cell_type": "code",
      "source": [
        "# modify\n",
        "\n",
        "t_text = input(\"번역할 말 입력\")\n",
        "\n",
        "def translate_text(t_text):\n",
        "  encText = urllib.parse.quote(t_text)\n",
        "\n",
        "  data = \"source=ko&target=en&text=\" + encText\n",
        "\n",
        "  response = urllib.request.urlopen(request, data=data.encode(\"utf-8\"))\n",
        "  rescode = response.getcode()\n",
        "\n",
        "  if(rescode==200):\n",
        "    t_data = response.json()\n",
        "    return t_data['message']['result']['translatedText']\n",
        "  else:\n",
        "    print(\"Error Code:\" + rescode)"
      ],
      "metadata": {
        "colab": {
          "base_uri": "https://localhost:8080/"
        },
        "id": "_ekQrES0GAV1",
        "outputId": "175645b2-7f0e-4fd4-a5a4-ee0adba12fc9"
      },
      "execution_count": 26,
      "outputs": [
        {
          "name": "stdout",
          "output_type": "stream",
          "text": [
            "번역할 말 입력하이\n"
          ]
        }
      ]
    },
    {
      "cell_type": "code",
      "source": [
        "\"\"\" 아래의 함수를 사용할 경우 client_id와 pw는 api.txt를 import 해야 사용가능 \"\"\"\n",
        "\n",
        "import requests\n",
        "\n",
        "def translate_ko_en(text):\n",
        "  data = {'text':text, 'source':'ko','target':'en'}  # 한글 -> 영어\n",
        "\n",
        "  client_id = naver_api[0]\n",
        "  client_secret = naver_api[1]\n",
        "  url = \"https://openapi.naver.com/v1/papago/n2mt\"\n",
        "\n",
        "  header = {\"X-Naver-Client-Id\":client_id,\"X-Naver-Client-Secret\":client_secret}\n",
        "\n",
        "  response = requests.post(url, headers=header, data= data)\n",
        "  rescode = response.status_code\n",
        "\n",
        "  if(rescode==200):\n",
        "    t_data = response.json()\n",
        "    \n",
        "    return t_data['message']['result']['translatedText']\n",
        "  else:\n",
        "    print('Error Code: ', rescode)"
      ],
      "metadata": {
        "id": "FIj_9yPkKcBw"
      },
      "execution_count": 30,
      "outputs": []
    },
    {
      "cell_type": "code",
      "source": [
        "text = input('번역할 말을 입력하시오. ')\n",
        "translate_ko_en(text)"
      ],
      "metadata": {
        "colab": {
          "base_uri": "https://localhost:8080/",
          "height": 53
        },
        "id": "gi2D9TsrMzio",
        "outputId": "8495668a-de6b-4865-9872-92fa9f742a09"
      },
      "execution_count": 33,
      "outputs": [
        {
          "name": "stdout",
          "output_type": "stream",
          "text": [
            "번역할 말을 입력하시오. 어디서 만날래?\n"
          ]
        },
        {
          "output_type": "execute_result",
          "data": {
            "application/vnd.google.colaboratory.intrinsic+json": {
              "type": "string"
            },
            "text/plain": [
              "'Where do you want to meet?'"
            ]
          },
          "metadata": {},
          "execution_count": 33
        }
      ]
    },
    {
      "cell_type": "markdown",
      "source": [
        "## Reference\n",
        "\n",
        "https://blog.naver.com/junegold12/222635084854"
      ],
      "metadata": {
        "id": "72wVnhbCeN7U"
      }
    },
    {
      "cell_type": "code",
      "source": [
        ""
      ],
      "metadata": {
        "id": "nAszp03eeVCb"
      },
      "execution_count": null,
      "outputs": []
    },
    {
      "cell_type": "code",
      "source": [
        ""
      ],
      "metadata": {
        "id": "BlfJznBxM6CR"
      },
      "execution_count": null,
      "outputs": []
    }
  ]
}