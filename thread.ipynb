{
  "nbformat": 4,
  "nbformat_minor": 0,
  "metadata": {
    "colab": {
      "name": "thread.ipynb",
      "provenance": [],
      "authorship_tag": "ABX9TyN9fZZpjg80F4st6vvVF2Y8",
      "include_colab_link": true
    },
    "kernelspec": {
      "name": "python3",
      "display_name": "Python 3"
    },
    "language_info": {
      "name": "python"
    }
  },
  "cells": [
    {
      "cell_type": "markdown",
      "metadata": {
        "id": "view-in-github",
        "colab_type": "text"
      },
      "source": [
        "<a href=\"https://colab.research.google.com/github/Han-Archives/languagebarrier/blob/main/thread.ipynb\" target=\"_parent\"><img src=\"https://colab.research.google.com/assets/colab-badge.svg\" alt=\"Open In Colab\"/></a>"
      ]
    },
    {
      "cell_type": "code",
      "execution_count": 3,
      "metadata": {
        "id": "r7fahB3AgY-q"
      },
      "outputs": [],
      "source": [
        "import threading, time"
      ]
    },
    {
      "cell_type": "markdown",
      "source": [
        "test 시나리오\n",
        "\n",
        "2개의 Thread가 리스트 ex) [1,2,3,4,5,6]를 하나씩 가져가고 list 안의 변수가 없으면 종료되며 종료된 \n"
      ],
      "metadata": {
        "id": "Tp5cgapXoLv6"
      }
    },
    {
      "cell_type": "code",
      "source": [
        "# test\n",
        "\n",
        "thread1\n"
      ],
      "metadata": {
        "id": "1GE8Lw-UoIuh"
      },
      "execution_count": null,
      "outputs": []
    },
    {
      "cell_type": "markdown",
      "source": [
        "## Reference\n",
        "\n",
        "https://coding-groot.tistory.com/103 - 쓰레드"
      ],
      "metadata": {
        "id": "S7C2nCIwle5F"
      }
    },
    {
      "cell_type": "code",
      "source": [
        "import threading\n",
        " \n",
        "# 공유된 변수를 위한 클래스\n",
        "class ThreadVariable():\n",
        "    def __init__(self):\n",
        "        self.lock = threading.Lock()\n",
        "        self.lockedValue = 0\n",
        " \n",
        "    # 한 Thread만 접근할 수 있도록 설정한다\n",
        "    def plus(self, value):\n",
        "        # Lock해서 다른 Thread는 기다리게 만든다.\n",
        "        self.lock.acquire()\n",
        "        try:\n",
        "            self.lockedValue += value\n",
        "        finally:\n",
        "            # Lock을 해제해서 다른 Thread도 사용할 수 있도록 만든다.\n",
        "            self.lock.release()\n",
        " \n",
        "# CounterThread\n",
        "class CounterThread(threading.Thread):\n",
        "    def __init__(self):\n",
        "        threading.Thread.__init__(self, name='Timer Thread')\n",
        " \n",
        "    # CounterThread가 실행하는 함수\n",
        "    def run(self):\n",
        "        global totalCount\n",
        " \n",
        "        # 2,500,000번 카운트 시작\n",
        "        for _ in range(2500000):\n",
        "            totalCount.plus(1)\n",
        "        print('2,500,000번 카운팅 끝!')\n",
        " \n",
        "if __name__ == '__main__':\n",
        "    # 전역 변수로 totalCount를 선언\n",
        "    global totalCount\n",
        "    # totalCount를 ThreadVariable 오브젝트로 초기화한다\n",
        "    totalCount = ThreadVariable()\n",
        " \n",
        "    # totalCount를 1씩 더하는 \n",
        "    # Counter Thread를 4개 만들어서 동작시킨다.\n",
        "    for _ in range(4):\n",
        "        timerThread = CounterThread()\n",
        "        timerThread.start()\n",
        " \n",
        "    print('모든 Thread들이 종료될 때까지 기다린다.')\n",
        "    mainThread = threading.currentThread()\n",
        "    for thread in threading.enumerate():\n",
        "        # Main Thread를 제외한 모든 Thread들이 \n",
        "        # 카운팅을 완료하고 끝날 때 까지 기다린다.\n",
        "        if thread is not mainThread:\n",
        "            thread.join()\n",
        " \n",
        "    print('totalCount = ' + str(totalCount.lockedValue))"
      ],
      "metadata": {
        "colab": {
          "base_uri": "https://localhost:8080/",
          "height": 413
        },
        "id": "iMBhGKGlvSje",
        "outputId": "dac2a4f2-fa8e-42a0-8c10-203ab58f6178"
      },
      "execution_count": 2,
      "outputs": [
        {
          "output_type": "stream",
          "name": "stdout",
          "text": [
            "모든 Thread들이 종료될 때까지 기다린다.\n"
          ]
        },
        {
          "output_type": "error",
          "ename": "KeyboardInterrupt",
          "evalue": "ignored",
          "traceback": [
            "\u001b[0;31m---------------------------------------------------------------------------\u001b[0m",
            "\u001b[0;31mKeyboardInterrupt\u001b[0m                         Traceback (most recent call last)",
            "\u001b[0;32m<ipython-input-2-be49041cbb1b>\u001b[0m in \u001b[0;36m<module>\u001b[0;34m()\u001b[0m\n\u001b[1;32m     49\u001b[0m         \u001b[0;31m# 카운팅을 완료하고 끝날 때 까지 기다린다.\u001b[0m\u001b[0;34m\u001b[0m\u001b[0;34m\u001b[0m\u001b[0;34m\u001b[0m\u001b[0m\n\u001b[1;32m     50\u001b[0m         \u001b[0;32mif\u001b[0m \u001b[0mthread\u001b[0m \u001b[0;32mis\u001b[0m \u001b[0;32mnot\u001b[0m \u001b[0mmainThread\u001b[0m\u001b[0;34m:\u001b[0m\u001b[0;34m\u001b[0m\u001b[0;34m\u001b[0m\u001b[0m\n\u001b[0;32m---> 51\u001b[0;31m             \u001b[0mthread\u001b[0m\u001b[0;34m.\u001b[0m\u001b[0mjoin\u001b[0m\u001b[0;34m(\u001b[0m\u001b[0;34m)\u001b[0m\u001b[0;34m\u001b[0m\u001b[0;34m\u001b[0m\u001b[0m\n\u001b[0m\u001b[1;32m     52\u001b[0m \u001b[0;34m\u001b[0m\u001b[0m\n\u001b[1;32m     53\u001b[0m     \u001b[0mprint\u001b[0m\u001b[0;34m(\u001b[0m\u001b[0;34m'totalCount = '\u001b[0m \u001b[0;34m+\u001b[0m \u001b[0mstr\u001b[0m\u001b[0;34m(\u001b[0m\u001b[0mtotalCount\u001b[0m\u001b[0;34m.\u001b[0m\u001b[0mlockedValue\u001b[0m\u001b[0;34m)\u001b[0m\u001b[0;34m)\u001b[0m\u001b[0;34m\u001b[0m\u001b[0;34m\u001b[0m\u001b[0m\n",
            "\u001b[0;32m/usr/lib/python3.7/threading.py\u001b[0m in \u001b[0;36mjoin\u001b[0;34m(self, timeout)\u001b[0m\n\u001b[1;32m   1042\u001b[0m \u001b[0;34m\u001b[0m\u001b[0m\n\u001b[1;32m   1043\u001b[0m         \u001b[0;32mif\u001b[0m \u001b[0mtimeout\u001b[0m \u001b[0;32mis\u001b[0m \u001b[0;32mNone\u001b[0m\u001b[0;34m:\u001b[0m\u001b[0;34m\u001b[0m\u001b[0;34m\u001b[0m\u001b[0m\n\u001b[0;32m-> 1044\u001b[0;31m             \u001b[0mself\u001b[0m\u001b[0;34m.\u001b[0m\u001b[0m_wait_for_tstate_lock\u001b[0m\u001b[0;34m(\u001b[0m\u001b[0;34m)\u001b[0m\u001b[0;34m\u001b[0m\u001b[0;34m\u001b[0m\u001b[0m\n\u001b[0m\u001b[1;32m   1045\u001b[0m         \u001b[0;32melse\u001b[0m\u001b[0;34m:\u001b[0m\u001b[0;34m\u001b[0m\u001b[0;34m\u001b[0m\u001b[0m\n\u001b[1;32m   1046\u001b[0m             \u001b[0;31m# the behavior of a negative timeout isn't documented, but\u001b[0m\u001b[0;34m\u001b[0m\u001b[0;34m\u001b[0m\u001b[0;34m\u001b[0m\u001b[0m\n",
            "\u001b[0;32m/usr/lib/python3.7/threading.py\u001b[0m in \u001b[0;36m_wait_for_tstate_lock\u001b[0;34m(self, block, timeout)\u001b[0m\n\u001b[1;32m   1058\u001b[0m         \u001b[0;32mif\u001b[0m \u001b[0mlock\u001b[0m \u001b[0;32mis\u001b[0m \u001b[0;32mNone\u001b[0m\u001b[0;34m:\u001b[0m  \u001b[0;31m# already determined that the C code is done\u001b[0m\u001b[0;34m\u001b[0m\u001b[0;34m\u001b[0m\u001b[0m\n\u001b[1;32m   1059\u001b[0m             \u001b[0;32massert\u001b[0m \u001b[0mself\u001b[0m\u001b[0;34m.\u001b[0m\u001b[0m_is_stopped\u001b[0m\u001b[0;34m\u001b[0m\u001b[0;34m\u001b[0m\u001b[0m\n\u001b[0;32m-> 1060\u001b[0;31m         \u001b[0;32melif\u001b[0m \u001b[0mlock\u001b[0m\u001b[0;34m.\u001b[0m\u001b[0macquire\u001b[0m\u001b[0;34m(\u001b[0m\u001b[0mblock\u001b[0m\u001b[0;34m,\u001b[0m \u001b[0mtimeout\u001b[0m\u001b[0;34m)\u001b[0m\u001b[0;34m:\u001b[0m\u001b[0;34m\u001b[0m\u001b[0;34m\u001b[0m\u001b[0m\n\u001b[0m\u001b[1;32m   1061\u001b[0m             \u001b[0mlock\u001b[0m\u001b[0;34m.\u001b[0m\u001b[0mrelease\u001b[0m\u001b[0;34m(\u001b[0m\u001b[0;34m)\u001b[0m\u001b[0;34m\u001b[0m\u001b[0;34m\u001b[0m\u001b[0m\n\u001b[1;32m   1062\u001b[0m             \u001b[0mself\u001b[0m\u001b[0;34m.\u001b[0m\u001b[0m_stop\u001b[0m\u001b[0;34m(\u001b[0m\u001b[0;34m)\u001b[0m\u001b[0;34m\u001b[0m\u001b[0;34m\u001b[0m\u001b[0m\n",
            "\u001b[0;31mKeyboardInterrupt\u001b[0m: "
          ]
        }
      ]
    }
  ]
}